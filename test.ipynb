{
 "cells": [
  {
   "cell_type": "markdown",
   "metadata": {},
   "source": [
    "# Text Summariser with Sentiment Analysis"
   ]
  },
  {
   "cell_type": "markdown",
   "metadata": {},
   "source": [
    "## Importing Libraries"
   ]
  },
  {
   "cell_type": "code",
   "execution_count": null,
   "metadata": {},
   "outputs": [],
   "source": [
    "import os\n",
    "\n",
    "import gradio as gr\n",
    "import spacy\n",
    "from spacy import displacy\n",
    "\n",
    "from articles import *\n",
    "\n",
    "os.system('python -m spacy download en_core_web_trf')\n",
    "os.system('python -m spacy download en_core_web_sm')"
   ]
  },
  {
   "cell_type": "markdown",
   "metadata": {},
   "source": [
    "## Token Classification"
   ]
  },
  {
   "cell_type": "code",
   "execution_count": null,
   "metadata": {},
   "outputs": [],
   "source": [
    "def ner(text, model='en_core_web_trf'):\n",
    "    ner_model = spacy.load(model)\n",
    "    doc = ner_model(text)\n",
    "    dep_tree = displacy.render(doc, style=\"dep\", page=True)\n",
    "    dep_tree = (\n",
    "        \"\"\n",
    "        + dep_tree\n",
    "        + \"\"\n",
    "    )\n",
    "    doc = ner_model(text)\n",
    "    meta_data = {\n",
    "        \"char_count\": len(text),\n",
    "        \"token_count\": len(doc),\n",
    "    }\n",
    "    pos_tokens = []\n",
    "    for token in doc:\n",
    "        pos_tokens.extend([(token.text, token.pos_), (\" \", None)])\n",
    "    return pos_tokens, meta_data, dep_tree"
   ]
  },
  {
   "cell_type": "markdown",
   "metadata": {},
   "source": [
    "## Making Gradio App"
   ]
  },
  {
   "cell_type": "code",
   "execution_count": null,
   "metadata": {},
   "outputs": [],
   "source": [
    "demo = gr.Blocks() # Create a gradio block\n",
    "\n",
    "with demo:\n",
    "    gr.Markdown(\"# Token Classification with Spacy\")\n",
    "    gr.Markdown(\"### Enter the text you want to Classify or choose from examples below\")\n",
    "    with gr.Tabs():\n",
    "        with gr.TabItem(\"Examples\"): # If the user wants to use the examples\n",
    "            with gr.Column():\n",
    "                rad = gr.components.Radio(\n",
    "                    ['Article 1', 'Article 2', 'Article 3'], label='Select article and wait till it appears!') # Radio button to select the article\n",
    "                text1 = gr.Textbox(label='Example') # Textbox to show the article\n",
    "                rad2 = gr.components.Radio(\n",
    "                    ['Spacy English Transformer', 'Spacy English Small'], label='Select Model for Token Classification') # Radio button to select the model\n",
    "            submit1 = gr.Button('Submit')\n",
    "        with gr.TabItem(\"Do it yourself!\"): # If the user wants to enter their own text\n",
    "            with gr.Column():\n",
    "                text2 = gr.components.Textbox(label='Enter your own text here!')\n",
    "                rad3 = gr.components.Radio(\n",
    "                    ['Spacy English Transformer', 'Spacy English Small'], label='Select Model for Token Classification')  # Radio button to select the model\n",
    "            submit2 = gr.Button('Submit')\n",
    "                \n",
    "        def action1(choice): # Function to show the article when the user selects the article\n",
    "            if choice == 'Article 1':\n",
    "                return ARTICLE_1\n",
    "            elif choice == 'Article 2':\n",
    "                return ARTICLE_2\n",
    "            elif choice == 'Article 3':\n",
    "                return ARTICLE_3\n",
    "\n",
    "        def models(model_name): # Function to select the model\n",
    "            if model_name == 'Spacy English Transformer':\n",
    "                return 'en_core_web_trf'\n",
    "            elif model_name == 'Spacy English Small':\n",
    "                return 'en_core_web_sm'\n",
    "            elif model_name is None:\n",
    "                return 'en_core_web_trf'\n",
    "        \n",
    "        rad.change(action1, rad, text1) # Change the article when the user selects the article\n",
    "        \n",
    "        op = gr.components.HighlightedText(label='Classified Token') # Output for the Highlighted text\n",
    "        op2 = gr.components.JSON(label='Meta') # Output for the Meta data\n",
    "        # Output for the Dependency Tree\n",
    "        op3 = gr.components.HTML(label='Dependency Tree')\n",
    "        gr.Markdown(\n",
    "            \"### Made with ❤️ by Arsh using TrueFoundry's Gradio Deployment\")\n",
    "        gr.Markdown(\n",
    "            \"### [Github Repo](https://github.com/d4rk-lucif3r/Token-Classification-with-Spacy)\")\n",
    "        gr.Markdown(\n",
    "            '### [Blog]()')\n",
    "        def fn(text, model): # Main function\n",
    "            model = models(model)\n",
    "            result = ner(text, model)\n",
    "            return result\n",
    "        \n",
    "        submit1.click(fn=fn, inputs=[text1, rad2], outputs=[op, op2, op3]) # Submit button for the examples\n",
    "        submit2.click(fn=fn, inputs=[text2, rad3], outputs=[op, op2, op3]) # Submit button for the user input\n",
    "        \n"
   ]
  },
  {
   "cell_type": "markdown",
   "metadata": {},
   "source": [
    "## Launching App"
   ]
  },
  {
   "cell_type": "code",
   "execution_count": null,
   "metadata": {},
   "outputs": [],
   "source": [
    "demo.launch(server_port=8081, server_name='0.0.0.0') # Launch the gradio block"
   ]
  },
  {
   "cell_type": "markdown",
   "metadata": {},
   "source": [
    "# Deploying to TrueFoundry"
   ]
  },
  {
   "cell_type": "code",
   "execution_count": null,
   "metadata": {},
   "outputs": [],
   "source": [
    "import os\n",
    "\n",
    "os.environ[\"TFY_HOST\"] = \"https://app.develop.truefoundry.tech/\"\n",
    "os.environ[\"TFY_API_KEY\"] = \"djE6dHJ1ZWZvdW5kcnk6QXJzaEFud2FyOmUzMjhiNg==\""
   ]
  },
  {
   "cell_type": "code",
   "execution_count": null,
   "metadata": {},
   "outputs": [],
   "source": [
    "from servicefoundry import Build, PythonBuild, Resources, Service"
   ]
  },
  {
   "cell_type": "code",
   "execution_count": null,
   "metadata": {},
   "outputs": [],
   "source": [
    "\n",
    "service = Service(\n",
    "    name=\"token-classification\",\n",
    "    image=Build(\n",
    "        build_spec=PythonBuild(\n",
    "            command=\"python app.py\",\n",
    "        ),\n",
    "    ),\n",
    "    ports=[{\"port\": 8080}],\n",
    "    resources=Resources(memory_limit=10000, memory_request=9500,\n",
    "                        cpu_limit=8, cpu_request=7.5),\n",
    ")\n",
    "service.deploy(workspace_fqn=\"tfy-dev-cluster:arsh-dev\")\n"
   ]
  }
 ],
 "metadata": {
  "kernelspec": {
   "display_name": "lucif3r-venv",
   "language": "python",
   "name": "python3"
  },
  "language_info": {
   "codemirror_mode": {
    "name": "ipython",
    "version": 3
   },
   "file_extension": ".py",
   "mimetype": "text/x-python",
   "name": "python",
   "nbconvert_exporter": "python",
   "pygments_lexer": "ipython3",
   "version": "3.9.13"
  },
  "orig_nbformat": 4,
  "vscode": {
   "interpreter": {
    "hash": "b65d6d725763ea958f8b8f6719b2e23351d3c7695b4ad311f3375b067e57c927"
   }
  }
 },
 "nbformat": 4,
 "nbformat_minor": 2
}
